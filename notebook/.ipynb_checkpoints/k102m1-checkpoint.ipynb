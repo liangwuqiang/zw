{
 "cells": [
  {
   "cell_type": "markdown",
   "metadata": {},
   "source": [
    "# “一月效应”计算 "
   ]
  },
  {
   "cell_type": "code",
   "execution_count": 4,
   "metadata": {},
   "outputs": [
    {
     "ename": "ImportError",
     "evalue": "No module named 'zwSys'",
     "output_type": "error",
     "traceback": [
      "\u001b[0;31m---------------------------------------------------------------------------\u001b[0m",
      "\u001b[0;31mImportError\u001b[0m                               Traceback (most recent call last)",
      "\u001b[0;32m<ipython-input-4-978f85c7abcc>\u001b[0m in \u001b[0;36m<module>\u001b[0;34m()\u001b[0m\n\u001b[1;32m      4\u001b[0m \u001b[0;34m\u001b[0m\u001b[0m\n\u001b[1;32m      5\u001b[0m \u001b[0;34m\u001b[0m\u001b[0m\n\u001b[0;32m----> 6\u001b[0;31m \u001b[0;32mimport\u001b[0m \u001b[0mzwSys\u001b[0m \u001b[0;32mas\u001b[0m \u001b[0mzw\u001b[0m  \u001b[0;31m#::zwQT\u001b[0m\u001b[0;34m\u001b[0m\u001b[0m\n\u001b[0m\u001b[1;32m      7\u001b[0m \u001b[0;31m# import zwTools as zwt\u001b[0m\u001b[0;34m\u001b[0m\u001b[0;34m\u001b[0m\u001b[0m\n",
      "\u001b[0;31mImportError\u001b[0m: No module named 'zwSys'"
     ]
    }
   ],
   "source": [
    "# import sys\n",
    "import pandas as pd\n",
    "import numpy as np\n",
    "\n",
    "\n",
    "import zwSys as zw  #::zwQT\n",
    "# import zwTools as zwt"
   ]
  },
  {
   "cell_type": "markdown",
   "metadata": {},
   "source": [
    "## 函数定义"
   ]
  },
  {
   "cell_type": "code",
   "execution_count": null,
   "metadata": {},
   "outputs": [],
   "source": [
    "def zw_anz_m1sub(xcod,rss,monStr):#kstr表示月份\n",
    "    fss=rss+xcod+\".csv\";print(fss) #文件名\n",
    "    nSum,nAdd,nDec=0,0,0 #输入的月份数，其中上升的月份，其中下跌的月份\n",
    "    kmon=int(monStr); #当前月     print('@m1sub',kstr,fss)\n",
    "    try:\n",
    "        df = pd.read_csv(fss,index_col=0,parse_dates=[0],encoding='utf-8')  #读取文件，csv使用gbk编码\n",
    "        df =df.rename(columns={'Close':'close'});df =df.sort_index(); #重命名close列；按指数（年月日）重排序\n",
    "        #\n",
    "        _tim0=df.index[0];_ynum0=_tim0.year; #解释时间模式，yy/mm/dd，这里提取了第一年\n",
    "        _tim9=df.index[-1];_ynum9=_tim9.year+1; #最后一年+1\n",
    "        #print('@t',_tim0,_tim9)\n",
    "        for ynum in range(_ynum0,_ynum9): #遍历所有年份\n",
    "            ystr=str(ynum);last_day=zwt.lastDay(ynum,kmon);#年份，每月的最后一天的日期\n",
    "            dayStr='%02d'%last_day\n",
    "            monStr1=''.join([ystr,'-',monStr,'-1'])       #当前月的第一天\n",
    "            monStr9=''.join([ystr,'-',monStr,'-',dayStr]) #当前月的最后一天\n",
    "            df2=df[(df.index>=monStr1)&(df.index<=monStr9)]; #选取年-月-01到年-月-月底之间\n",
    "            #print('@y',ystr1,ystr9,ystr,len(df2))\n",
    "            if (len(df2)>0): #若存在交易日（处理月份用）\n",
    "                _kmon5='%02d' %df2.index[0].month; #选取交易日期中的月份，并转为string\n",
    "                if (_kmon5==monStr):  #若上述月份为函数输入的变量\n",
    "                    xd1a=df2.ix[0];xd1z=df2.ix[-1];nSum+=1; #交易月份+1\n",
    "                    vd1a=xd1a['close'];vd1z=xd1z['close']; #选取收盘价位\n",
    "                    if (vd1z>vd1a):nAdd+=1 #比较收盘价位，判定升跌\n",
    "                    else:nDec+=1;\n",
    "                   \n",
    "    except IOError: \n",
    "        pass;    #skip,error\n",
    "        \n",
    "    print('nSum,nAdd,nDec,',nSum,nAdd,nDec); \n",
    "    return nSum,nAdd,nDec    #返回值为交易月份数量，上升，下跌"
   ]
  },
  {
   "cell_type": "code",
   "execution_count": null,
   "metadata": {},
   "outputs": [],
   "source": [
    "def zw_stk_anz_m01(qx,finx0,rss,ksgn): #对每个股票运算一次上一个函数\n",
    "    fss = qx.rdatInx+finx0+\".csv\";   #stk_code.csv,inxYahoo.csv\n",
    "    codTyp='gbk'\n",
    "    if (rss.find('\\\\us\\\\')>0):codTyp='utf-8'\n",
    "    print('f',fss,codTyp)\n",
    "    dinx = pd.read_csv(fss,encoding=codTyp)  #读取csv文件\n",
    "    #print(dinx.head())\n",
    "    #print('f2',fss)\n",
    "    mx1={};mx1['finx']=finx0;mx1['ksgn']=ksgn;\n",
    "    mx1['nSum']=0;mx1['nAdd']=0;mx1['nDec']=0;#字典，赋值\n",
    "    #nSum=0;nAdd=0;nDec=0;\n",
    "    xn9=len(dinx['code']);mx1['nstk']=xn9; #所读取的csv的行数（code列的长度）\n",
    "    #遍历csv中的code名,i 是计数器变量\n",
    "    for i,xcod in enumerate(dinx['code']):\n",
    "        if (not isinstance(xcod,str)):xcod=\"%06d\" %xcod;\n",
    "   \n",
    "        dSum,dAdd,dDec=zw_anz_m1sub(xcod,rss,ksgn); \n",
    "        \n",
    "        mx1['nSum']=mx1['nSum']+dSum;        \n",
    "        mx1['nAdd']=mx1['nAdd']+dAdd;\n",
    "        mx1['nDec']=mx1['nDec']+dDec;\n",
    "        print(i,'/',xn9,xcod,mx1);\n",
    "    #\n",
    "    print('xn9',xn9)    ;#    print(len(mx1['nAdd']))    \n",
    "    mx1['kAdd']=np.round(mx1['nAdd']*100/ mx1['nSum']); #指数上升频率（估计概率）\n",
    "    mx1['kDec']=np.round(mx1['nDec']*100/ mx1['nSum']); #指数下降频率（估计概率）\n",
    "    \n",
    "    \n",
    "    return mx1"
   ]
  },
  {
   "cell_type": "code",
   "execution_count": null,
   "metadata": {},
   "outputs": [],
   "source": [
    "def zw_stk_anz_mx(qx,finx0,rss): #生成一个csv文件\n",
    "    c10=[\"finx\",\"ksgn\",\"nstk\",'nSum','nAdd','nDec','kAdd','kDec']; #csv的第一列\n",
    "    df=pd.DataFrame(columns=c10); #定义dataframe\n",
    "    ftg=\"tmp\\\\mx_\"+finx0+\".csv\";print(ftg)  #打印csv文件名\n",
    "    \n",
    "    for i in range(12):\n",
    "        ksgn=\"%02d\" %(i+1);\n",
    "        #ksgn=str(i+1);#if i<9:ksgn='0'+ksgn; #1到12月\n",
    "        \n",
    "        #print(ksgn)    \n",
    "        mx1=zw_stk_anz_m01(qx,finx0,rss,ksgn); #利用上一个函数生成一个dataframe,\n",
    "        \n",
    "        ds1=pd.Series(mx1,index=c10); #生成一个pandas中的series\n",
    "        ds2=ds1.T; #.T=转置（矩阵转置）\n",
    "        df=df.append(ds2,ignore_index=True);#在df中加上ds2\n",
    "        df.to_csv(ftg,index=False,encode='utf8'); #保存为csv，utf8编码"
   ]
  },
  {
   "cell_type": "code",
   "execution_count": null,
   "metadata": {},
   "outputs": [],
   "source": [
    "def zw_stk_anz_mx_all(qx,xlst):    #遍历指定list中的股票\n",
    "    for fx in xlst:\n",
    "        if (fx.find('Yah')>0):\n",
    "            #rss=qx.rZWusDay\n",
    "            rss=qx.rdat+'\\\\us\\\\day\\\\'\n",
    "        else:\n",
    "            if (fx=='inx_code'):rss=qx.rdat+'\\\\cn\\\\xday\\\\' #rss=qx.rZWcnXDay\n",
    "            else:rss=qx.rdat+'\\\\cn\\\\day\\\\' #rss=qx.rZWcnDay\n",
    "            \n",
    "        finx0=fx; #生成文件名\n",
    "        zw_stk_anz_mx(qx,finx0,rss); #用上一个函数生成csv文件"
   ]
  },
  {
   "cell_type": "markdown",
   "metadata": {},
   "source": [
    "## 主控程序"
   ]
  },
  {
   "cell_type": "code",
   "execution_count": 3,
   "metadata": {},
   "outputs": [
    {
     "ename": "NameError",
     "evalue": "name 'zw' is not defined",
     "output_type": "error",
     "traceback": [
      "\u001b[0;31m---------------------------------------------------------------------------\u001b[0m",
      "\u001b[0;31mNameError\u001b[0m                                 Traceback (most recent call last)",
      "\u001b[0;32m<ipython-input-3-349889e1de53>\u001b[0m in \u001b[0;36m<module>\u001b[0;34m()\u001b[0m\n\u001b[1;32m      1\u001b[0m \u001b[0;31m#============main\u001b[0m\u001b[0;34m\u001b[0m\u001b[0;34m\u001b[0m\u001b[0m\n\u001b[0;32m----> 2\u001b[0;31m \u001b[0mqx\u001b[0m \u001b[0;34m=\u001b[0m \u001b[0mzw\u001b[0m\u001b[0;34m.\u001b[0m\u001b[0mzwDatX\u001b[0m\u001b[0;34m(\u001b[0m\u001b[0mzw\u001b[0m\u001b[0;34m.\u001b[0m\u001b[0m_rdat0\u001b[0m\u001b[0;34m)\u001b[0m\u001b[0;34m\u001b[0m\u001b[0m\n\u001b[0m\u001b[1;32m      3\u001b[0m \u001b[0;34m\u001b[0m\u001b[0m\n\u001b[1;32m      4\u001b[0m \u001b[0;34m\u001b[0m\u001b[0m\n\u001b[1;32m      5\u001b[0m \u001b[0;31m# uslst=['inxYahoo30sp','inxYahoo100ns','inxYahoo100sp','inxYahoo600','inxYahoo500sp','inxYahoo']\u001b[0m\u001b[0;34m\u001b[0m\u001b[0;34m\u001b[0m\u001b[0m\n",
      "\u001b[0;31mNameError\u001b[0m: name 'zw' is not defined"
     ]
    }
   ],
   "source": [
    "#============main\n",
    "qx = zw.zwDatX(zw._rdat0)\n",
    "\n",
    "\n",
    "# uslst=['inxYahoo30sp','inxYahoo100ns','inxYahoo100sp','inxYahoo600','inxYahoo500sp','inxYahoo']\n",
    "# zw_stk_anz_mx_all(qx,uslst)\n",
    "\n",
    "# cnlst=['inx_code','stk_sz50','stk_hs300','stk_zz500','stk_code','stk_code'];\n",
    "# zw_stk_anz_mx_all(qx,cnlst)"
   ]
  },
  {
   "cell_type": "code",
   "execution_count": null,
   "metadata": {},
   "outputs": [],
   "source": []
  }
 ],
 "metadata": {
  "kernelspec": {
   "display_name": "Python 3",
   "language": "python",
   "name": "python3"
  },
  "language_info": {
   "codemirror_mode": {
    "name": "ipython",
    "version": 3
   },
   "file_extension": ".py",
   "mimetype": "text/x-python",
   "name": "python",
   "nbconvert_exporter": "python",
   "pygments_lexer": "ipython3",
   "version": "3.5.2"
  }
 },
 "nbformat": 4,
 "nbformat_minor": 2
}
