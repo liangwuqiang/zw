{
 "cells": [
  {
   "cell_type": "markdown",
   "metadata": {},
   "source": [
    "# k101 复利公式"
   ]
  },
  {
   "cell_type": "code",
   "execution_count": 1,
   "metadata": {},
   "outputs": [],
   "source": [
    "import numpy as np"
   ]
  },
  {
   "cell_type": "markdown",
   "metadata": {},
   "source": [
    "## 复利公式定义"
   ]
  },
  {
   "cell_type": "code",
   "execution_count": null,
   "metadata": {},
   "outputs": [],
   "source": [
    "def sta001(k, nyear, xd):\n",
    "    d2 = np.fv(k, nyear, -xd, -xd);\n",
    "    d2 = round(d2)   # round()方法返回浮点数x的四舍五入值。\n",
    "    return d2"
   ]
  },
  {
   "cell_type": "markdown",
   "metadata": {},
   "source": [
    "## 每年存款1.4万，40年，累计存款"
   ]
  },
  {
   "cell_type": "code",
   "execution_count": 4,
   "metadata": {},
   "outputs": [
    {
     "name": "stdout",
     "output_type": "stream",
     "text": [
      "d40, 40 x 1.4 =  56.0\n"
     ]
    }
   ],
   "source": [
    "d40 = 1.4 * 40\n",
    "print(\"d40, 40 x 1.4 = \", d40)"
   ]
  },
  {
   "cell_type": "markdown",
   "metadata": {},
   "source": [
    "## 按5%利率计算"
   ]
  },
  {
   "cell_type": "code",
   "execution_count": 5,
   "metadata": {},
   "outputs": [
    {
     "name": "stdout",
     "output_type": "stream",
     "text": [
      "01保守投资模式， 169.0 3.0\n"
     ]
    }
   ],
   "source": [
    "d = sta001(0.05, 40-1, 1.4);\n",
    "print(\"01保守投资模式，\", d, round(d / d40))"
   ]
  },
  {
   "cell_type": "markdown",
   "metadata": {},
   "source": [
    "## 按20%利率计算"
   ]
  },
  {
   "cell_type": "code",
   "execution_count": 9,
   "metadata": {},
   "outputs": [
    {
     "name": "stdout",
     "output_type": "stream",
     "text": [
      "02激进投资模式， 10281.0 184.0\n"
     ]
    }
   ],
   "source": [
    "d2 = sta001(0.20, 40-1, 1.4)\n",
    "print(\"02激进投资模式，\", d2, round(d2 / d40))"
   ]
  },
  {
   "cell_type": "markdown",
   "metadata": {},
   "source": [
    "## 差别"
   ]
  },
  {
   "cell_type": "code",
   "execution_count": 10,
   "metadata": {},
   "outputs": [
    {
     "name": "stdout",
     "output_type": "stream",
     "text": [
      "dk,两者差别（xx倍）： 61.0\n"
     ]
    }
   ],
   "source": [
    "dk = round(d2 / d)\n",
    "print(\"dk,两者差别（xx倍）：\", dk)"
   ]
  }
 ],
 "metadata": {
  "kernelspec": {
   "display_name": "Python 3",
   "language": "python",
   "name": "python3"
  },
  "language_info": {
   "codemirror_mode": {
    "name": "ipython",
    "version": 3
   },
   "file_extension": ".py",
   "mimetype": "text/x-python",
   "name": "python",
   "nbconvert_exporter": "python",
   "pygments_lexer": "ipython3",
   "version": "3.5.2"
  }
 },
 "nbformat": 4,
 "nbformat_minor": 2
}
