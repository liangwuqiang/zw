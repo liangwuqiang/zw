{
 "cells": [
  {
   "cell_type": "code",
   "execution_count": 4,
   "metadata": {},
   "outputs": [],
   "source": [
    "xcod = '000001' \n",
    "rss = 'zwDat/cn/xday/'\n",
    "monStr = '01'"
   ]
  },
  {
   "cell_type": "code",
   "execution_count": 5,
   "metadata": {},
   "outputs": [
    {
     "data": {
      "text/plain": [
       "'zwDat/cn/xday/000001.csv'"
      ]
     },
     "execution_count": 5,
     "metadata": {},
     "output_type": "execute_result"
    }
   ],
   "source": [
    "fss = rss + xcod + \".csv\"\n",
    "fss"
   ]
  },
  {
   "cell_type": "code",
   "execution_count": 6,
   "metadata": {},
   "outputs": [
    {
     "data": {
      "text/plain": [
       "1"
      ]
     },
     "execution_count": 6,
     "metadata": {},
     "output_type": "execute_result"
    }
   ],
   "source": [
    "nSum, nAdd, nDec = 0, 0, 0  # 输入的月份数，其中上升的月份，其中下跌的月份\n",
    "kmon = int(monStr)  # 当前月份\n",
    "kmon"
   ]
  },
  {
   "cell_type": "code",
   "execution_count": 12,
   "metadata": {},
   "outputs": [
    {
     "data": {
      "text/html": [
       "<div>\n",
       "<style>\n",
       "    .dataframe thead tr:only-child th {\n",
       "        text-align: right;\n",
       "    }\n",
       "\n",
       "    .dataframe thead th {\n",
       "        text-align: left;\n",
       "    }\n",
       "\n",
       "    .dataframe tbody tr th {\n",
       "        vertical-align: top;\n",
       "    }\n",
       "</style>\n",
       "<table border=\"1\" class=\"dataframe\">\n",
       "  <thead>\n",
       "    <tr style=\"text-align: right;\">\n",
       "      <th></th>\n",
       "      <th>open</th>\n",
       "      <th>high</th>\n",
       "      <th>close</th>\n",
       "      <th>low</th>\n",
       "      <th>volume</th>\n",
       "      <th>amount</th>\n",
       "    </tr>\n",
       "    <tr>\n",
       "      <th>date</th>\n",
       "      <th></th>\n",
       "      <th></th>\n",
       "      <th></th>\n",
       "      <th></th>\n",
       "      <th></th>\n",
       "      <th></th>\n",
       "    </tr>\n",
       "  </thead>\n",
       "  <tbody>\n",
       "    <tr>\n",
       "      <th>2017-05-03</th>\n",
       "      <td>3138.307</td>\n",
       "      <td>3148.286</td>\n",
       "      <td>3135.346</td>\n",
       "      <td>3123.751</td>\n",
       "      <td>16376392400</td>\n",
       "      <td>190236600690</td>\n",
       "    </tr>\n",
       "    <tr>\n",
       "      <th>2017-05-02</th>\n",
       "      <td>3147.228</td>\n",
       "      <td>3154.781</td>\n",
       "      <td>3143.712</td>\n",
       "      <td>3136.539</td>\n",
       "      <td>15422296200</td>\n",
       "      <td>176389916688</td>\n",
       "    </tr>\n",
       "    <tr>\n",
       "      <th>2017-04-28</th>\n",
       "      <td>3144.022</td>\n",
       "      <td>3154.727</td>\n",
       "      <td>3154.658</td>\n",
       "      <td>3136.578</td>\n",
       "      <td>16288989900</td>\n",
       "      <td>183195769806</td>\n",
       "    </tr>\n",
       "    <tr>\n",
       "      <th>2017-04-27</th>\n",
       "      <td>3131.350</td>\n",
       "      <td>3155.003</td>\n",
       "      <td>3152.187</td>\n",
       "      <td>3097.333</td>\n",
       "      <td>21179307300</td>\n",
       "      <td>235748319355</td>\n",
       "    </tr>\n",
       "    <tr>\n",
       "      <th>2017-04-26</th>\n",
       "      <td>3132.918</td>\n",
       "      <td>3152.953</td>\n",
       "      <td>3140.847</td>\n",
       "      <td>3131.418</td>\n",
       "      <td>16987810700</td>\n",
       "      <td>197112873017</td>\n",
       "    </tr>\n",
       "  </tbody>\n",
       "</table>\n",
       "</div>"
      ],
      "text/plain": [
       "                open      high     close       low       volume        amount\n",
       "date                                                                         \n",
       "2017-05-03  3138.307  3148.286  3135.346  3123.751  16376392400  190236600690\n",
       "2017-05-02  3147.228  3154.781  3143.712  3136.539  15422296200  176389916688\n",
       "2017-04-28  3144.022  3154.727  3154.658  3136.578  16288989900  183195769806\n",
       "2017-04-27  3131.350  3155.003  3152.187  3097.333  21179307300  235748319355\n",
       "2017-04-26  3132.918  3152.953  3140.847  3131.418  16987810700  197112873017"
      ]
     },
     "execution_count": 12,
     "metadata": {},
     "output_type": "execute_result"
    }
   ],
   "source": [
    "import pandas as pd\n",
    "df = pd.read_csv(fss, index_col=0, parse_dates=[0], encoding='utf-8')\n",
    "df.head()"
   ]
  },
  {
   "cell_type": "code",
   "execution_count": 16,
   "metadata": {},
   "outputs": [
    {
     "name": "stdout",
     "output_type": "stream",
     "text": [
      "<class 'pandas.core.frame.DataFrame'>\n"
     ]
    },
    {
     "data": {
      "text/html": [
       "<div>\n",
       "<style>\n",
       "    .dataframe thead tr:only-child th {\n",
       "        text-align: right;\n",
       "    }\n",
       "\n",
       "    .dataframe thead th {\n",
       "        text-align: left;\n",
       "    }\n",
       "\n",
       "    .dataframe tbody tr th {\n",
       "        vertical-align: top;\n",
       "    }\n",
       "</style>\n",
       "<table border=\"1\" class=\"dataframe\">\n",
       "  <thead>\n",
       "    <tr style=\"text-align: right;\">\n",
       "      <th></th>\n",
       "      <th>open</th>\n",
       "      <th>high</th>\n",
       "      <th>close</th>\n",
       "      <th>low</th>\n",
       "      <th>volume</th>\n",
       "      <th>amount</th>\n",
       "    </tr>\n",
       "    <tr>\n",
       "      <th>date</th>\n",
       "      <th></th>\n",
       "      <th></th>\n",
       "      <th></th>\n",
       "      <th></th>\n",
       "      <th></th>\n",
       "      <th></th>\n",
       "    </tr>\n",
       "  </thead>\n",
       "  <tbody>\n",
       "    <tr>\n",
       "      <th>2017-05-03</th>\n",
       "      <td>3138.307</td>\n",
       "      <td>3148.286</td>\n",
       "      <td>3135.346</td>\n",
       "      <td>3123.751</td>\n",
       "      <td>16376392400</td>\n",
       "      <td>190236600690</td>\n",
       "    </tr>\n",
       "    <tr>\n",
       "      <th>2017-05-02</th>\n",
       "      <td>3147.228</td>\n",
       "      <td>3154.781</td>\n",
       "      <td>3143.712</td>\n",
       "      <td>3136.539</td>\n",
       "      <td>15422296200</td>\n",
       "      <td>176389916688</td>\n",
       "    </tr>\n",
       "    <tr>\n",
       "      <th>2017-04-28</th>\n",
       "      <td>3144.022</td>\n",
       "      <td>3154.727</td>\n",
       "      <td>3154.658</td>\n",
       "      <td>3136.578</td>\n",
       "      <td>16288989900</td>\n",
       "      <td>183195769806</td>\n",
       "    </tr>\n",
       "    <tr>\n",
       "      <th>2017-04-27</th>\n",
       "      <td>3131.350</td>\n",
       "      <td>3155.003</td>\n",
       "      <td>3152.187</td>\n",
       "      <td>3097.333</td>\n",
       "      <td>21179307300</td>\n",
       "      <td>235748319355</td>\n",
       "    </tr>\n",
       "    <tr>\n",
       "      <th>2017-04-26</th>\n",
       "      <td>3132.918</td>\n",
       "      <td>3152.953</td>\n",
       "      <td>3140.847</td>\n",
       "      <td>3131.418</td>\n",
       "      <td>16987810700</td>\n",
       "      <td>197112873017</td>\n",
       "    </tr>\n",
       "  </tbody>\n",
       "</table>\n",
       "</div>"
      ],
      "text/plain": [
       "                open      high     close       low       volume        amount\n",
       "date                                                                         \n",
       "2017-05-03  3138.307  3148.286  3135.346  3123.751  16376392400  190236600690\n",
       "2017-05-02  3147.228  3154.781  3143.712  3136.539  15422296200  176389916688\n",
       "2017-04-28  3144.022  3154.727  3154.658  3136.578  16288989900  183195769806\n",
       "2017-04-27  3131.350  3155.003  3152.187  3097.333  21179307300  235748319355\n",
       "2017-04-26  3132.918  3152.953  3140.847  3131.418  16987810700  197112873017"
      ]
     },
     "execution_count": 16,
     "metadata": {},
     "output_type": "execute_result"
    }
   ],
   "source": [
    "df = df.rename(columns={'Close': 'close000'})  # 重命名close列，收盘价  不懂？？？\n",
    "print(type(df))\n",
    "df.head()"
   ]
  },
  {
   "cell_type": "code",
   "execution_count": null,
   "metadata": {
    "collapsed": true
   },
   "outputs": [],
   "source": []
  }
 ],
 "metadata": {
  "kernelspec": {
   "display_name": "Python 3",
   "language": "python",
   "name": "python3"
  },
  "language_info": {
   "codemirror_mode": {
    "name": "ipython",
    "version": 3
   },
   "file_extension": ".py",
   "mimetype": "text/x-python",
   "name": "python",
   "nbconvert_exporter": "python",
   "pygments_lexer": "ipython3",
   "version": "3.5.2"
  }
 },
 "nbformat": 4,
 "nbformat_minor": 2
}
