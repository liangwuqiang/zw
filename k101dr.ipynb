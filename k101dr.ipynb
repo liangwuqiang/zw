{
 "cells": [
  {
   "cell_type": "markdown",
   "metadata": {},
   "source": [
    "# 图表显示年利率"
   ]
  },
  {
   "cell_type": "code",
   "execution_count": 1,
   "metadata": {},
   "outputs": [],
   "source": [
    "import numpy as np\n",
    "import pandas as pd\n",
    "import matplotlib as mpl\n",
    "import matplotlib.pyplot as plt"
   ]
  },
  {
   "cell_type": "markdown",
   "metadata": {},
   "source": [
    "## 图表的风格"
   ]
  },
  {
   "cell_type": "code",
   "execution_count": 2,
   "metadata": {},
   "outputs": [],
   "source": [
    "mpl.style.use('seaborn-whitegrid')"
   ]
  },
  {
   "cell_type": "markdown",
   "metadata": {},
   "source": [
    "Pandas与Seaborn的区别\n",
    "\n",
    "其实两者都是使用了matplotlib来作图，但是有非常不同的设计差异\n",
    "\n",
    "    - 在只需要简单地作图时直接用Pandas，但要想做出更加吸引人，更丰富的图就可以使用Seaborn\n",
    "    \n",
    "    - Pandas的作图函数并没有太多的参数来调整图形，所以你必须要深入了解matplotlib\n",
    "    \n",
    "    - Seaborn的作图函数中提供了大量的参数来调整图形，所以并不需要太深入了解matplotlib\n",
    "    \n",
    "    - Seaborn的API：https://stanford.edu/~mwaskom/software/seaborn/api.html#style-frontend\n"
   ]
  },
  {
   "cell_type": "markdown",
   "metadata": {},
   "source": [
    "## 复利公式定义"
   ]
  },
  {
   "cell_type": "code",
   "execution_count": 3,
   "metadata": {},
   "outputs": [],
   "source": [
    "def sta001(k,nyear,xd):\n",
    "    d2=np.fv(k,nyear,-xd,-xd);\n",
    "    d2=round(d2)\n",
    "    return d2"
   ]
  },
  {
   "cell_type": "markdown",
   "metadata": {},
   "source": [
    "## 常规计算"
   ]
  },
  {
   "cell_type": "code",
   "execution_count": 4,
   "metadata": {},
   "outputs": [
    {
     "name": "stdout",
     "output_type": "stream",
     "text": [
      "d40,40 x 1.4= 56.0\n",
      "01保守投资模式， 169.0 3.0\n",
      "02激进投资模式， 10281.0 184.0\n",
      "dk,两者差别（xx倍）： 61.0\n"
     ]
    }
   ],
   "source": [
    "d40=1.4*40\n",
    "print(\"d40,40 x 1.4=\",d40)\n",
    "d=sta001(0.05,40-1,1.4);\n",
    "print(\"01保守投资模式，\",d,round(d/d40))\n",
    "\n",
    "d2=sta001(0.20,40-1,1.4);\n",
    "print(\"02激进投资模式，\",d2,round(d2/d40))\n",
    "\n",
    "dk=round(d2/d)\n",
    "print(\"dk,两者差别（xx倍）：\",dk)"
   ]
  },
  {
   "cell_type": "markdown",
   "metadata": {},
   "source": [
    "## 按年产生收益数据"
   ]
  },
  {
   "cell_type": "code",
   "execution_count": 5,
   "metadata": {},
   "outputs": [
    {
     "name": "stdout",
     "output_type": "stream",
     "text": [
      "[1.0, 3.0, 4.0, 6.0, 8.0, 10.0, 11.0, 13.0, 15.0, 18.0, 20.0, 22.0, 25.0, 27.0, 30.0, 33.0, 36.0, 39.0, 43.0, 46.0, 50.0, 54.0, 58.0, 62.0, 67.0, 72.0, 77.0, 82.0, 87.0, 93.0, 99.0, 105.0, 112.0, 119.0, 126.0, 134.0, 142.0, 151.0, 160.0, 169.0]\n",
      "[1.0, 3.0, 5.0, 8.0, 10.0, 14.0, 18.0, 23.0, 29.0, 36.0, 45.0, 55.0, 68.0, 83.0, 101.0, 122.0, 148.0, 179.0, 217.0, 261.0, 315.0, 379.0, 457.0, 549.0, 661.0, 794.0, 955.0, 1147.0, 1378.0, 1655.0, 1987.0, 2386.0, 2864.0, 3439.0, 4128.0, 4955.0, 5947.0, 7138.0, 8567.0, 10281.0]\n"
     ]
    }
   ],
   "source": [
    "dx05=[sta001(0.05,x,1.4) for x in range(0,40)]\n",
    "dx10=[sta001(0.10,x,1.4) for x in range(0,40)]\n",
    "dx15=[sta001(0.15,x,1.4) for x in range(0,40)]\n",
    "dx20=[sta001(0.20,x,1.4) for x in range(0,40)]\n",
    "print(dx05)\n",
    "print(dx20)"
   ]
  },
  {
   "cell_type": "markdown",
   "metadata": {},
   "source": [
    "## 数据存入pandas中"
   ]
  },
  {
   "cell_type": "code",
   "execution_count": 6,
   "metadata": {},
   "outputs": [
    {
     "name": "stdout",
     "output_type": "stream",
     "text": [
      "\n",
      "     dx05   dx10    dx15     dx20\n",
      "35  134.0  419.0  1420.0   4955.0\n",
      "36  142.0  462.0  1634.0   5947.0\n",
      "37  151.0  510.0  1881.0   7138.0\n",
      "38  160.0  562.0  2165.0   8567.0\n",
      "39  169.0  620.0  2491.0  10281.0\n"
     ]
    }
   ],
   "source": [
    "df=pd.DataFrame(columns=['dx05','dx10','dx15','dx20']);\n",
    "df['dx05']=dx05;df['dx10']=dx10;\n",
    "df['dx15']=dx15;df['dx20']=dx20;\n",
    "print(\"\")\n",
    "print(df.tail())"
   ]
  },
  {
   "cell_type": "markdown",
   "metadata": {},
   "source": [
    "## pandas直接调用绘图函数"
   ]
  },
  {
   "cell_type": "code",
   "execution_count": 7,
   "metadata": {},
   "outputs": [
    {
     "data": {
      "text/plain": [
       "<matplotlib.axes._subplots.AxesSubplot at 0x7f906842b0b8>"
      ]
     },
     "execution_count": 7,
     "metadata": {},
     "output_type": "execute_result"
    }
   ],
   "source": [
    "df.plot()"
   ]
  },
  {
   "cell_type": "markdown",
   "metadata": {},
   "source": [
    "## 显示输出"
   ]
  },
  {
   "cell_type": "code",
   "execution_count": 8,
   "metadata": {},
   "outputs": [
    {
     "data": {
      "image/png": "[encoded data removed]",
      "text/plain": [
       "<matplotlib.figure.Figure at 0x7f909447ed68>"
      ]
     },
     "metadata": {},
     "output_type": "display_data"
    }
   ],
   "source": [
    "plt.show()"
   ]
  }
 ],
 "metadata": {
  "kernelspec": {
   "display_name": "Python 3",
   "language": "python",
   "name": "python3"
  },
  "language_info": {
   "codemirror_mode": {
    "name": "ipython",
    "version": 3
   },
   "file_extension": ".py",
   "mimetype": "text/x-python",
   "name": "python",
   "nbconvert_exporter": "python",
   "pygments_lexer": "ipython3",
   "version": "3.5.2"
  }
 },
 "nbformat": 4,
 "nbformat_minor": 2
}
