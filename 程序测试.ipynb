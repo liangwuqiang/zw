{
 "cells": [
  {
   "cell_type": "code",
   "execution_count": 1,
   "metadata": {
    "collapsed": true
   },
   "outputs": [],
   "source": [
    "xcod = '000001' \n",
    "rss = 'zwDat/cn/xday/'\n",
    "monStr = '02'"
   ]
  },
  {
   "cell_type": "code",
   "execution_count": 2,
   "metadata": {},
   "outputs": [
    {
     "data": {
      "text/plain": [
       "'zwDat/cn/xday/000001.csv'"
      ]
     },
     "execution_count": 2,
     "metadata": {},
     "output_type": "execute_result"
    }
   ],
   "source": [
    "fss = rss + xcod + \".csv\"\n",
    "fss"
   ]
  },
  {
   "cell_type": "code",
   "execution_count": 3,
   "metadata": {},
   "outputs": [
    {
     "data": {
      "text/plain": [
       "2"
      ]
     },
     "execution_count": 3,
     "metadata": {},
     "output_type": "execute_result"
    }
   ],
   "source": [
    "nSum, nAdd, nDec = 0, 0, 0  # 输入的月份数，其中上升的月份，其中下跌的月份\n",
    "kmon = int(monStr)  # 当前月份\n",
    "kmon"
   ]
  },
  {
   "cell_type": "code",
   "execution_count": 4,
   "metadata": {},
   "outputs": [
    {
     "data": {
      "text/html": [
       "<div>\n",
       "<style>\n",
       "    .dataframe thead tr:only-child th {\n",
       "        text-align: right;\n",
       "    }\n",
       "\n",
       "    .dataframe thead th {\n",
       "        text-align: left;\n",
       "    }\n",
       "\n",
       "    .dataframe tbody tr th {\n",
       "        vertical-align: top;\n",
       "    }\n",
       "</style>\n",
       "<table border=\"1\" class=\"dataframe\">\n",
       "  <thead>\n",
       "    <tr style=\"text-align: right;\">\n",
       "      <th></th>\n",
       "      <th>open</th>\n",
       "      <th>high</th>\n",
       "      <th>close</th>\n",
       "      <th>low</th>\n",
       "      <th>volume</th>\n",
       "      <th>amount</th>\n",
       "    </tr>\n",
       "    <tr>\n",
       "      <th>date</th>\n",
       "      <th></th>\n",
       "      <th></th>\n",
       "      <th></th>\n",
       "      <th></th>\n",
       "      <th></th>\n",
       "      <th></th>\n",
       "    </tr>\n",
       "  </thead>\n",
       "  <tbody>\n",
       "    <tr>\n",
       "      <th>2017-05-03</th>\n",
       "      <td>3138.307</td>\n",
       "      <td>3148.286</td>\n",
       "      <td>3135.346</td>\n",
       "      <td>3123.751</td>\n",
       "      <td>16376392400</td>\n",
       "      <td>190236600690</td>\n",
       "    </tr>\n",
       "    <tr>\n",
       "      <th>2017-05-02</th>\n",
       "      <td>3147.228</td>\n",
       "      <td>3154.781</td>\n",
       "      <td>3143.712</td>\n",
       "      <td>3136.539</td>\n",
       "      <td>15422296200</td>\n",
       "      <td>176389916688</td>\n",
       "    </tr>\n",
       "    <tr>\n",
       "      <th>2017-04-28</th>\n",
       "      <td>3144.022</td>\n",
       "      <td>3154.727</td>\n",
       "      <td>3154.658</td>\n",
       "      <td>3136.578</td>\n",
       "      <td>16288989900</td>\n",
       "      <td>183195769806</td>\n",
       "    </tr>\n",
       "    <tr>\n",
       "      <th>2017-04-27</th>\n",
       "      <td>3131.350</td>\n",
       "      <td>3155.003</td>\n",
       "      <td>3152.187</td>\n",
       "      <td>3097.333</td>\n",
       "      <td>21179307300</td>\n",
       "      <td>235748319355</td>\n",
       "    </tr>\n",
       "    <tr>\n",
       "      <th>2017-04-26</th>\n",
       "      <td>3132.918</td>\n",
       "      <td>3152.953</td>\n",
       "      <td>3140.847</td>\n",
       "      <td>3131.418</td>\n",
       "      <td>16987810700</td>\n",
       "      <td>197112873017</td>\n",
       "    </tr>\n",
       "  </tbody>\n",
       "</table>\n",
       "</div>"
      ],
      "text/plain": [
       "                open      high     close       low       volume        amount\n",
       "date                                                                         \n",
       "2017-05-03  3138.307  3148.286  3135.346  3123.751  16376392400  190236600690\n",
       "2017-05-02  3147.228  3154.781  3143.712  3136.539  15422296200  176389916688\n",
       "2017-04-28  3144.022  3154.727  3154.658  3136.578  16288989900  183195769806\n",
       "2017-04-27  3131.350  3155.003  3152.187  3097.333  21179307300  235748319355\n",
       "2017-04-26  3132.918  3152.953  3140.847  3131.418  16987810700  197112873017"
      ]
     },
     "execution_count": 4,
     "metadata": {},
     "output_type": "execute_result"
    }
   ],
   "source": [
    "import pandas as pd\n",
    "df = pd.read_csv(fss, index_col=0, parse_dates=[0], encoding='utf-8')\n",
    "df.head()"
   ]
  },
  {
   "cell_type": "code",
   "execution_count": 5,
   "metadata": {},
   "outputs": [
    {
     "data": {
      "text/html": [
       "<div>\n",
       "<style>\n",
       "    .dataframe thead tr:only-child th {\n",
       "        text-align: right;\n",
       "    }\n",
       "\n",
       "    .dataframe thead th {\n",
       "        text-align: left;\n",
       "    }\n",
       "\n",
       "    .dataframe tbody tr th {\n",
       "        vertical-align: top;\n",
       "    }\n",
       "</style>\n",
       "<table border=\"1\" class=\"dataframe\">\n",
       "  <thead>\n",
       "    <tr style=\"text-align: right;\">\n",
       "      <th></th>\n",
       "      <th>open</th>\n",
       "      <th>high</th>\n",
       "      <th>close</th>\n",
       "      <th>low</th>\n",
       "      <th>volume</th>\n",
       "      <th>amount</th>\n",
       "    </tr>\n",
       "    <tr>\n",
       "      <th>date</th>\n",
       "      <th></th>\n",
       "      <th></th>\n",
       "      <th></th>\n",
       "      <th></th>\n",
       "      <th></th>\n",
       "      <th></th>\n",
       "    </tr>\n",
       "  </thead>\n",
       "  <tbody>\n",
       "    <tr>\n",
       "      <th>2017-05-03</th>\n",
       "      <td>3138.307</td>\n",
       "      <td>3148.286</td>\n",
       "      <td>3135.346</td>\n",
       "      <td>3123.751</td>\n",
       "      <td>16376392400</td>\n",
       "      <td>190236600690</td>\n",
       "    </tr>\n",
       "    <tr>\n",
       "      <th>2017-05-02</th>\n",
       "      <td>3147.228</td>\n",
       "      <td>3154.781</td>\n",
       "      <td>3143.712</td>\n",
       "      <td>3136.539</td>\n",
       "      <td>15422296200</td>\n",
       "      <td>176389916688</td>\n",
       "    </tr>\n",
       "    <tr>\n",
       "      <th>2017-04-28</th>\n",
       "      <td>3144.022</td>\n",
       "      <td>3154.727</td>\n",
       "      <td>3154.658</td>\n",
       "      <td>3136.578</td>\n",
       "      <td>16288989900</td>\n",
       "      <td>183195769806</td>\n",
       "    </tr>\n",
       "    <tr>\n",
       "      <th>2017-04-27</th>\n",
       "      <td>3131.350</td>\n",
       "      <td>3155.003</td>\n",
       "      <td>3152.187</td>\n",
       "      <td>3097.333</td>\n",
       "      <td>21179307300</td>\n",
       "      <td>235748319355</td>\n",
       "    </tr>\n",
       "    <tr>\n",
       "      <th>2017-04-26</th>\n",
       "      <td>3132.918</td>\n",
       "      <td>3152.953</td>\n",
       "      <td>3140.847</td>\n",
       "      <td>3131.418</td>\n",
       "      <td>16987810700</td>\n",
       "      <td>197112873017</td>\n",
       "    </tr>\n",
       "  </tbody>\n",
       "</table>\n",
       "</div>"
      ],
      "text/plain": [
       "                open      high     close       low       volume        amount\n",
       "date                                                                         \n",
       "2017-05-03  3138.307  3148.286  3135.346  3123.751  16376392400  190236600690\n",
       "2017-05-02  3147.228  3154.781  3143.712  3136.539  15422296200  176389916688\n",
       "2017-04-28  3144.022  3154.727  3154.658  3136.578  16288989900  183195769806\n",
       "2017-04-27  3131.350  3155.003  3152.187  3097.333  21179307300  235748319355\n",
       "2017-04-26  3132.918  3152.953  3140.847  3131.418  16987810700  197112873017"
      ]
     },
     "execution_count": 5,
     "metadata": {},
     "output_type": "execute_result"
    }
   ],
   "source": [
    "df = df.rename(columns={'Close': 'close'})  # 如果列名是Close，则改名，收盘价\n",
    "df.head()"
   ]
  },
  {
   "cell_type": "code",
   "execution_count": 6,
   "metadata": {},
   "outputs": [
    {
     "data": {
      "text/html": [
       "<div>\n",
       "<style>\n",
       "    .dataframe thead tr:only-child th {\n",
       "        text-align: right;\n",
       "    }\n",
       "\n",
       "    .dataframe thead th {\n",
       "        text-align: left;\n",
       "    }\n",
       "\n",
       "    .dataframe tbody tr th {\n",
       "        vertical-align: top;\n",
       "    }\n",
       "</style>\n",
       "<table border=\"1\" class=\"dataframe\">\n",
       "  <thead>\n",
       "    <tr style=\"text-align: right;\">\n",
       "      <th></th>\n",
       "      <th>open</th>\n",
       "      <th>high</th>\n",
       "      <th>close</th>\n",
       "      <th>low</th>\n",
       "      <th>volume</th>\n",
       "      <th>amount</th>\n",
       "    </tr>\n",
       "    <tr>\n",
       "      <th>date</th>\n",
       "      <th></th>\n",
       "      <th></th>\n",
       "      <th></th>\n",
       "      <th></th>\n",
       "      <th></th>\n",
       "      <th></th>\n",
       "    </tr>\n",
       "  </thead>\n",
       "  <tbody>\n",
       "    <tr>\n",
       "      <th>1994-01-03</th>\n",
       "      <td>837.70</td>\n",
       "      <td>840.65</td>\n",
       "      <td>833.90</td>\n",
       "      <td>831.66</td>\n",
       "      <td>101005600</td>\n",
       "      <td>1048326000</td>\n",
       "    </tr>\n",
       "    <tr>\n",
       "      <th>1994-01-04</th>\n",
       "      <td>835.97</td>\n",
       "      <td>836.97</td>\n",
       "      <td>832.69</td>\n",
       "      <td>829.89</td>\n",
       "      <td>65274300</td>\n",
       "      <td>692748000</td>\n",
       "    </tr>\n",
       "    <tr>\n",
       "      <th>1994-01-05</th>\n",
       "      <td>829.30</td>\n",
       "      <td>847.05</td>\n",
       "      <td>846.98</td>\n",
       "      <td>823.10</td>\n",
       "      <td>89412100</td>\n",
       "      <td>975053000</td>\n",
       "    </tr>\n",
       "    <tr>\n",
       "      <th>1994-01-06</th>\n",
       "      <td>850.78</td>\n",
       "      <td>869.33</td>\n",
       "      <td>869.33</td>\n",
       "      <td>850.78</td>\n",
       "      <td>184511700</td>\n",
       "      <td>1970032000</td>\n",
       "    </tr>\n",
       "    <tr>\n",
       "      <th>1994-01-07</th>\n",
       "      <td>875.18</td>\n",
       "      <td>883.99</td>\n",
       "      <td>879.64</td>\n",
       "      <td>873.01</td>\n",
       "      <td>168688400</td>\n",
       "      <td>1752262000</td>\n",
       "    </tr>\n",
       "  </tbody>\n",
       "</table>\n",
       "</div>"
      ],
      "text/plain": [
       "              open    high   close     low     volume      amount\n",
       "date                                                             \n",
       "1994-01-03  837.70  840.65  833.90  831.66  101005600  1048326000\n",
       "1994-01-04  835.97  836.97  832.69  829.89   65274300   692748000\n",
       "1994-01-05  829.30  847.05  846.98  823.10   89412100   975053000\n",
       "1994-01-06  850.78  869.33  869.33  850.78  184511700  1970032000\n",
       "1994-01-07  875.18  883.99  879.64  873.01  168688400  1752262000"
      ]
     },
     "execution_count": 6,
     "metadata": {},
     "output_type": "execute_result"
    }
   ],
   "source": [
    "df = df.sort_index()  # 按日期排序\n",
    "df.head()"
   ]
  },
  {
   "cell_type": "code",
   "execution_count": 7,
   "metadata": {},
   "outputs": [
    {
     "name": "stdout",
     "output_type": "stream",
     "text": [
      "1994-01-03 00:00:00\n",
      "1994\n",
      "2017-05-03 00:00:00\n",
      "2018\n"
     ]
    }
   ],
   "source": [
    "_tim0 = df.index[0]  # 取得时间列的第一行\n",
    "_ynum0 = _tim0.year  # 截取第一行的年份\n",
    "_tim9 = df.index[-1]  # 取得时间列的最后一行\n",
    "_ynum9 = _tim9.year + 1  # 最后一年+1\n",
    "print(_tim0)\n",
    "print(_ynum0)\n",
    "print(_tim9)\n",
    "print(_ynum9)"
   ]
  },
  {
   "cell_type": "code",
   "execution_count": 8,
   "metadata": {
    "collapsed": true
   },
   "outputs": [],
   "source": [
    "import zwQuant.source.zwTools as zwt"
   ]
  },
  {
   "cell_type": "code",
   "execution_count": 9,
   "metadata": {},
   "outputs": [
    {
     "name": "stderr",
     "output_type": "stream",
     "text": [
      "/usr/local/lib/python3.5/dist-packages/ipykernel_launcher.py:14: DeprecationWarning: \n",
      ".ix is deprecated. Please use\n",
      ".loc for label based indexing or\n",
      ".iloc for positional indexing\n",
      "\n",
      "See the documentation here:\n",
      "http://pandas.pydata.org/pandas-docs/stable/indexing.html#ix-indexer-is-deprecated\n",
      "  \n"
     ]
    }
   ],
   "source": [
    "for ynum in range(_ynum0, _ynum9):  # 遍历所有年份\n",
    "    ystr = str(ynum)  # 年份\n",
    "    last_day = zwt.lastDay(ynum, kmon)  # 年份，每月的最后一天的日期\n",
    "    dayStr = '%02d' % last_day\n",
    "    monStr1 = ''.join([ystr, '-', monStr, '-01'])  # 当前月的第一天\n",
    "    monStr9 = ''.join([ystr, '-', monStr, '-', dayStr])  # 当前月的最后一天\n",
    "    df2 = df[(df.index >= monStr1) & (df.index <= monStr9)]\n",
    "#     print(df2.head())\n",
    "    \n",
    "    if len(df2) > 0:  # 若存在交易日（处理月份用）\n",
    "        _kmon5 = '%02d' % df2.index[0].month  # 选取交易日期中的月份，并转为string\n",
    "#         print(_kmon5)\n",
    "        if _kmon5 == monStr:  # 若上述月份为函数输入的变量\n",
    "            xd1a = df2.ix[0]\n",
    "#             print(xd1a)\n",
    "            xd1z = df2.iloc[-1]\n",
    "#             print(xd1z)\n",
    "            nSum += 1  # 交易月份+1\n",
    "#             print(nSum)\n",
    "            vd1a = xd1a['close']\n",
    "            vd1z = xd1z['close']  # 选取收盘价位\n",
    "            if vd1z > vd1a:\n",
    "                nAdd += 1  # 比较收盘价位，判定升跌\n",
    "            else:\n",
    "                nDec += 1\n",
    "#     break\n"
   ]
  },
  {
   "cell_type": "code",
   "execution_count": 10,
   "metadata": {},
   "outputs": [
    {
     "name": "stdout",
     "output_type": "stream",
     "text": [
      "nSum,nAdd,nDec, 24 19 5\n"
     ]
    }
   ],
   "source": [
    "print('nSum,nAdd,nDec,', nSum, nAdd, nDec)"
   ]
  },
  {
   "cell_type": "code",
   "execution_count": null,
   "metadata": {
    "collapsed": true
   },
   "outputs": [],
   "source": []
  }
 ],
 "metadata": {
  "kernelspec": {
   "display_name": "Python 3",
   "language": "python",
   "name": "python3"
  },
  "language_info": {
   "codemirror_mode": {
    "name": "ipython",
    "version": 3
   },
   "file_extension": ".py",
   "mimetype": "text/x-python",
   "name": "python",
   "nbconvert_exporter": "python",
   "pygments_lexer": "ipython3",
   "version": "3.5.2"
  }
 },
 "nbformat": 4,
 "nbformat_minor": 2
}
